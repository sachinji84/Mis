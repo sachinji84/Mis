{
 "cells": [
  {
   "cell_type": "code",
   "execution_count": 4,
   "metadata": {},
   "outputs": [],
   "source": [
    "response = \"its AI\""
   ]
  },
  {
   "cell_type": "code",
   "execution_count": 7,
   "metadata": {},
   "outputs": [],
   "source": [
    "prompt = \"what is AI?\""
   ]
  },
  {
   "cell_type": "code",
   "execution_count": 10,
   "metadata": {},
   "outputs": [
    {
     "name": "stdout",
     "output_type": "stream",
     "text": [
      "what is AI? \n",
      "Answer:its AI\n"
     ]
    }
   ],
   "source": [
    "print(prompt, \"\\nAnswer:\" + response)"
   ]
  },
  {
   "cell_type": "markdown",
   "metadata": {},
   "source": [
    "### azoai-chat-callfromapp-gpt35"
   ]
  },
  {
   "cell_type": "code",
   "execution_count": 1,
   "metadata": {},
   "outputs": [],
   "source": [
    "import os\n",
    "from openai import AzureOpenAI\n",
    "from azure.identity import DefaultAzureCredential, get_bearer_token_provider\n",
    "from dotenv import load_dotenv\n",
    "\n",
    "# Take environment variables from .env.\n",
    "load_dotenv()\n",
    "# endpoint = os.getenv(\"ENDPOINT_URL\", \"https://sk-az-openai-1.openai.azure.com/\")\n",
    "# deployment = os.getenv(\"DEPLOYMENT_NAME\", \"skazoai1-gpt-35-turbo\")\n",
    "# token_provider = get_bearer_token_provider(DefaultAzureCredential(), \"https://cognitiveservices.azure.com/.default\")\n",
    "AZURE_OPENAI_API_KEY = os.getenv(\"AZURE_OAI_KEY\")\n",
    "AZURE_OPENAI_ENDPOINT = os.getenv(\"AZURE_OAI_ENDPOINT\")\n",
    "AZURE_OPENAI_DEPLOYMENT_NAME = os.getenv(\"AZURE_OAI_DEPLOYMENT_NAME\")"
   ]
  },
  {
   "cell_type": "code",
   "execution_count": 2,
   "metadata": {},
   "outputs": [],
   "source": [
    "# Initialize Azure OpenAI client with key-based authentication\n",
    "client = AzureOpenAI(\n",
    "    # azure_ad_token_provider=token_provider,\n",
    "    azure_endpoint=AZURE_OPENAI_ENDPOINT,\n",
    "    api_key=AZURE_OPENAI_API_KEY,\n",
    "    api_version=\"2024-05-01-preview\"\n",
    ")"
   ]
  },
  {
   "cell_type": "code",
   "execution_count": 3,
   "metadata": {},
   "outputs": [],
   "source": [
    "completion = client.chat.completions.create(\n",
    "    # model=deployment,\n",
    "    model=AZURE_OPENAI_DEPLOYMENT_NAME,\n",
    "    messages=[\n",
    "        {\n",
    "            \"role\": \"user\",\n",
    "            \"content\": \"Can you tell me about capital of  Sikkim ?\"\n",
    "        }],\n",
    "    max_tokens=800,\n",
    "    temperature=0.7,\n",
    "    top_p=0.95,\n",
    "    frequency_penalty=0,\n",
    "    presence_penalty=0,\n",
    "    stop=None,\n",
    "    stream=False\n",
    ")"
   ]
  },
  {
   "cell_type": "code",
   "execution_count": 4,
   "metadata": {},
   "outputs": [
    {
     "data": {
      "text/plain": [
       "ChatCompletion(id='chatcmpl-ABim3kedze0EPUHPGa1wakpXM0d06', choices=[Choice(finish_reason='stop', index=0, logprobs=None, message=ChatCompletionMessage(content='The capital of Sikkim is Gangtok. It is a beautiful city situated in the eastern Himalayan range at an elevation of 1,650 meters above sea level. Gangtok is known for its scenic beauty, picturesque landscapes, and pleasant climate. It is also the largest city in Sikkim and the main center of tourism in the state. The city is surrounded by snow-capped mountains and lush green forests, making it a popular destination for nature lovers and adventure enthusiasts. Gangtok is also home to several important government offices, educational institutions, and cultural centers.', refusal=None, role='assistant', function_call=None, tool_calls=None), content_filter_results={'hate': {'filtered': False, 'severity': 'safe'}, 'protected_material_code': {'filtered': False, 'detected': False}, 'protected_material_text': {'filtered': False, 'detected': False}, 'self_harm': {'filtered': False, 'severity': 'safe'}, 'sexual': {'filtered': False, 'severity': 'safe'}, 'violence': {'filtered': False, 'severity': 'safe'}})], created=1727357083, model='gpt-35-turbo', object='chat.completion', service_tier=None, system_fingerprint=None, usage=CompletionUsage(completion_tokens=115, prompt_tokens=20, total_tokens=135, completion_tokens_details=None), prompt_filter_results=[{'prompt_index': 0, 'content_filter_results': {'hate': {'filtered': False, 'severity': 'safe'}, 'jailbreak': {'filtered': False, 'detected': False}, 'self_harm': {'filtered': False, 'severity': 'safe'}, 'sexual': {'filtered': False, 'severity': 'safe'}, 'violence': {'filtered': False, 'severity': 'safe'}}}])"
      ]
     },
     "execution_count": 4,
     "metadata": {},
     "output_type": "execute_result"
    }
   ],
   "source": [
    "completion"
   ]
  },
  {
   "cell_type": "code",
   "execution_count": 5,
   "metadata": {},
   "outputs": [
    {
     "data": {
      "text/plain": [
       "{'id': 'chatcmpl-ABim3kedze0EPUHPGa1wakpXM0d06',\n",
       " 'choices': [Choice(finish_reason='stop', index=0, logprobs=None, message=ChatCompletionMessage(content='The capital of Sikkim is Gangtok. It is a beautiful city situated in the eastern Himalayan range at an elevation of 1,650 meters above sea level. Gangtok is known for its scenic beauty, picturesque landscapes, and pleasant climate. It is also the largest city in Sikkim and the main center of tourism in the state. The city is surrounded by snow-capped mountains and lush green forests, making it a popular destination for nature lovers and adventure enthusiasts. Gangtok is also home to several important government offices, educational institutions, and cultural centers.', refusal=None, role='assistant', function_call=None, tool_calls=None), content_filter_results={'hate': {'filtered': False, 'severity': 'safe'}, 'protected_material_code': {'filtered': False, 'detected': False}, 'protected_material_text': {'filtered': False, 'detected': False}, 'self_harm': {'filtered': False, 'severity': 'safe'}, 'sexual': {'filtered': False, 'severity': 'safe'}, 'violence': {'filtered': False, 'severity': 'safe'}})],\n",
       " 'created': 1727357083,\n",
       " 'model': 'gpt-35-turbo',\n",
       " 'object': 'chat.completion',\n",
       " 'service_tier': None,\n",
       " 'system_fingerprint': None,\n",
       " 'usage': CompletionUsage(completion_tokens=115, prompt_tokens=20, total_tokens=135, completion_tokens_details=None),\n",
       " '_request_id': 'e1244263-1d29-408e-9ec3-e947a9a64b97'}"
      ]
     },
     "execution_count": 5,
     "metadata": {},
     "output_type": "execute_result"
    }
   ],
   "source": [
    "completion.__dict__"
   ]
  },
  {
   "cell_type": "code",
   "execution_count": 6,
   "metadata": {},
   "outputs": [
    {
     "data": {
      "text/plain": [
       "'The capital of Sikkim is Gangtok. It is a beautiful city situated in the eastern Himalayan range at an elevation of 1,650 meters above sea level. Gangtok is known for its scenic beauty, picturesque landscapes, and pleasant climate. It is also the largest city in Sikkim and the main center of tourism in the state. The city is surrounded by snow-capped mountains and lush green forests, making it a popular destination for nature lovers and adventure enthusiasts. Gangtok is also home to several important government offices, educational institutions, and cultural centers.'"
      ]
     },
     "execution_count": 6,
     "metadata": {},
     "output_type": "execute_result"
    }
   ],
   "source": [
    "completion.choices[0].message.content"
   ]
  },
  {
   "cell_type": "code",
   "execution_count": 8,
   "metadata": {},
   "outputs": [
    {
     "name": "stdout",
     "output_type": "stream",
     "text": [
      "{\n",
      "  \"id\": \"chatcmpl-ABim3kedze0EPUHPGa1wakpXM0d06\",\n",
      "  \"choices\": [\n",
      "    {\n",
      "      \"finish_reason\": \"stop\",\n",
      "      \"index\": 0,\n",
      "      \"logprobs\": null,\n",
      "      \"message\": {\n",
      "        \"content\": \"The capital of Sikkim is Gangtok. It is a beautiful city situated in the eastern Himalayan range at an elevation of 1,650 meters above sea level. Gangtok is known for its scenic beauty, picturesque landscapes, and pleasant climate. It is also the largest city in Sikkim and the main center of tourism in the state. The city is surrounded by snow-capped mountains and lush green forests, making it a popular destination for nature lovers and adventure enthusiasts. Gangtok is also home to several important government offices, educational institutions, and cultural centers.\",\n",
      "        \"role\": \"assistant\"\n",
      "      },\n",
      "      \"content_filter_results\": {\n",
      "        \"hate\": {\n",
      "          \"filtered\": false,\n",
      "          \"severity\": \"safe\"\n",
      "        },\n",
      "        \"protected_material_code\": {\n",
      "          \"filtered\": false,\n",
      "          \"detected\": false\n",
      "        },\n",
      "        \"protected_material_text\": {\n",
      "          \"filtered\": false,\n",
      "          \"detected\": false\n",
      "        },\n",
      "        \"self_harm\": {\n",
      "          \"filtered\": false,\n",
      "          \"severity\": \"safe\"\n",
      "        },\n",
      "        \"sexual\": {\n",
      "          \"filtered\": false,\n",
      "          \"severity\": \"safe\"\n",
      "        },\n",
      "        \"violence\": {\n",
      "          \"filtered\": false,\n",
      "          \"severity\": \"safe\"\n",
      "        }\n",
      "      }\n",
      "    }\n",
      "  ],\n",
      "  \"created\": 1727357083,\n",
      "  \"model\": \"gpt-35-turbo\",\n",
      "  \"object\": \"chat.completion\",\n",
      "  \"system_fingerprint\": null,\n",
      "  \"usage\": {\n",
      "    \"completion_tokens\": 115,\n",
      "    \"prompt_tokens\": 20,\n",
      "    \"total_tokens\": 135\n",
      "  },\n",
      "  \"prompt_filter_results\": [\n",
      "    {\n",
      "      \"prompt_index\": 0,\n",
      "      \"content_filter_results\": {\n",
      "        \"hate\": {\n",
      "          \"filtered\": false,\n",
      "          \"severity\": \"safe\"\n",
      "        },\n",
      "        \"jailbreak\": {\n",
      "          \"filtered\": false,\n",
      "          \"detected\": false\n",
      "        },\n",
      "        \"self_harm\": {\n",
      "          \"filtered\": false,\n",
      "          \"severity\": \"safe\"\n",
      "        },\n",
      "        \"sexual\": {\n",
      "          \"filtered\": false,\n",
      "          \"severity\": \"safe\"\n",
      "        },\n",
      "        \"violence\": {\n",
      "          \"filtered\": false,\n",
      "          \"severity\": \"safe\"\n",
      "        }\n",
      "      }\n",
      "    }\n",
      "  ]\n",
      "}\n"
     ]
    }
   ],
   "source": [
    "print(completion.to_json())"
   ]
  },
  {
   "cell_type": "code",
   "execution_count": 11,
   "metadata": {},
   "outputs": [
    {
     "ename": "TypeError",
     "evalue": "string indices must be integers, not 'str'",
     "output_type": "error",
     "traceback": [
      "\u001b[1;31m---------------------------------------------------------------------------\u001b[0m",
      "\u001b[1;31mTypeError\u001b[0m                                 Traceback (most recent call last)",
      "Cell \u001b[1;32mIn[11], line 1\u001b[0m\n\u001b[1;32m----> 1\u001b[0m \u001b[43mcompletion\u001b[49m\u001b[38;5;241;43m.\u001b[39;49m\u001b[43mto_json\u001b[49m\u001b[43m(\u001b[49m\u001b[43m)\u001b[49m\u001b[43m[\u001b[49m\u001b[38;5;124;43m\"\u001b[39;49m\u001b[38;5;124;43mcontent\u001b[39;49m\u001b[38;5;124;43m\"\u001b[39;49m\u001b[43m]\u001b[49m\n",
      "\u001b[1;31mTypeError\u001b[0m: string indices must be integers, not 'str'"
     ]
    }
   ],
   "source": [
    "completion.to_json()[\"content\"]"
   ]
  },
  {
   "cell_type": "code",
   "execution_count": null,
   "metadata": {},
   "outputs": [],
   "source": []
  },
  {
   "cell_type": "markdown",
   "metadata": {},
   "source": [
    "### azoai-complition-callfromapp-gpt35"
   ]
  },
  {
   "cell_type": "code",
   "execution_count": 2,
   "metadata": {},
   "outputs": [],
   "source": [
    "import os\n",
    "from openai import AzureOpenAI\n",
    "from dotenv import load_dotenv\n",
    "\n",
    "# Take environment variables from .env.\n",
    "load_dotenv()\n",
    "AZURE_OPENAI_API_KEY = os.getenv(\"AZURE_OAI_KEY\")\n",
    "AZURE_OPENAI_ENDPOINT = os.getenv(\"AZURE_OAI_ENDPOINT\")\n",
    "AZURE_OPENAI_DEPLOYMENT_NAME = os.getenv(\"AZURE_OAI_DEPLOYMENT_NAME\")\n",
    "\n",
    "client = AzureOpenAI(\n",
    "    azure_endpoint=AZURE_OPENAI_ENDPOINT,\n",
    "    api_key=AZURE_OPENAI_API_KEY,\n",
    "    api_version=\"2024-05-01-preview\"\n",
    ")"
   ]
  },
  {
   "cell_type": "code",
   "execution_count": 3,
   "metadata": {},
   "outputs": [],
   "source": [
    "# This will correspond to the custom name you chose for your deployment when you deployed a model.\n",
    "# Use a gpt-35-turbo-instruct deployment.\n",
    "deployment_name = AZURE_OPENAI_DEPLOYMENT_NAME"
   ]
  },
  {
   "cell_type": "code",
   "execution_count": 30,
   "metadata": {},
   "outputs": [],
   "source": [
    "# Send a completion call to generate an answer\n",
    "prompt = \"What is OpenAI ?\""
   ]
  },
  {
   "cell_type": "code",
   "execution_count": 31,
   "metadata": {},
   "outputs": [],
   "source": [
    "response = client.completions.create(\n",
    "    model=deployment_name,\n",
    "    prompt=prompt,\n",
    "    temperature=1,\n",
    "    max_tokens=350,\n",
    "    top_p=1,\n",
    "    frequency_penalty=0,\n",
    "    presence_penalty=0,\n",
    "    stop=None\n",
    ")"
   ]
  },
  {
   "cell_type": "code",
   "execution_count": 32,
   "metadata": {},
   "outputs": [
    {
     "data": {
      "text/plain": [
       "{'id': 'cmpl-ABlsn0itngLwoJNZIoOptMEvbamkB',\n",
       " 'choices': [CompletionChoice(finish_reason='length', index=0, logprobs=None, text=\"](https://openai.com/about/)\\n* [OpenAI GPT-2](https://openai.com/blog/better-language-models/)\\n* [Article source by OpenAI](https://openai.com/blog/better-language-models/)\\n\\n**Note:**\\n\\nOpenAIs GPT-2 model can be used for various applications including;\\n* Improving/Enhancing AI models\\n* Writing contextual/meaningful articles \\n* Machine-based artistic expression \\n* Building recommendation systems\\n* and more.\\n\\nMost importantly, with the rise of many social issues (such as; fake news, deepfakes etc) concerns surrounding the probability of OpenAIs model being abused or wrongly utilised have also arised. In this regard, `OpenAI has decided not to release the model and weights of the largest version of the GPT-2 series: the 1.5B version. Which is due to the great level of respect and responsibility OpenAI holds towards improving human lives through AI!`\\n\\nMultitudes of exciting research and exploration of new ideas would have been possible with OpenAIs entire GPT-2, but despite that, there is still a lot we can achieve with the released models.\\n\\nOn that note, let's build a text generator using OpenAI's GPT-2!!!\\n\\n## Introduction \\n\\nIn this notebook, I will show you how to generate text with [OpenAI](https://openai.com)'s GPT-2 using the [openai](https://github.com/openai/openai-python) and [requests](https://requests.readthedocs.io/en/master/) Python libraries.\\n\\nDependencies:\\n* `openai`\\n* `requests`\\n\\nYou should be able to install both of these via `pip`.\\n\\n\", content_filter_results={'hate': {'filtered': False, 'severity': 'safe'}, 'protected_material_code': {'filtered': False, 'detected': False}, 'protected_material_text': {'filtered': False, 'detected': False}, 'self_harm': {'filtered': False, 'severity': 'safe'}, 'sexual': {'filtered': False, 'severity': 'safe'}, 'violence': {'filtered': False, 'severity': 'safe'}})],\n",
       " 'created': 1727369033,\n",
       " 'model': 'gpt-35-turbo',\n",
       " 'object': 'text_completion',\n",
       " 'system_fingerprint': None,\n",
       " 'usage': CompletionUsage(completion_tokens=350, prompt_tokens=5, total_tokens=355, completion_tokens_details=None),\n",
       " '_request_id': '6373427e-0d76-4bea-bcf8-ed6ee5e4df09'}"
      ]
     },
     "execution_count": 32,
     "metadata": {},
     "output_type": "execute_result"
    }
   ],
   "source": [
    "response.__dict__"
   ]
  },
  {
   "cell_type": "code",
   "execution_count": 33,
   "metadata": {},
   "outputs": [
    {
     "name": "stdout",
     "output_type": "stream",
     "text": [
      "What is OpenAI ?](https://openai.com/about/)\n",
      "* [OpenAI GPT-2](https://openai.com/blog/better-language-models/)\n",
      "* [Article source by OpenAI](https://openai.com/blog/better-language-models/)\n",
      "\n",
      "**Note:**\n",
      "\n",
      "OpenAIs GPT-2 model can be used for various applications including;\n",
      "* Improving/Enhancing AI models\n",
      "* Writing contextual/meaningful articles \n",
      "* Machine-based artistic expression \n",
      "* Building recommendation systems\n",
      "* and more.\n",
      "\n",
      "Most importantly, with the rise of many social issues (such as; fake news, deepfakes etc) concerns surrounding the probability of OpenAIs model being abused or wrongly utilised have also arised. In this regard, `OpenAI has decided not to release the model and weights of the largest version of the GPT-2 series: the 1.5B version. Which is due to the great level of respect and responsibility OpenAI holds towards improving human lives through AI!`\n",
      "\n",
      "Multitudes of exciting research and exploration of new ideas would have been possible with OpenAIs entire GPT-2, but despite that, there is still a lot we can achieve with the released models.\n",
      "\n",
      "On that note, let's build a text generator using OpenAI's GPT-2!!!\n",
      "\n",
      "## Introduction \n",
      "\n",
      "In this notebook, I will show you how to generate text with [OpenAI](https://openai.com)'s GPT-2 using the [openai](https://github.com/openai/openai-python) and [requests](https://requests.readthedocs.io/en/master/) Python libraries.\n",
      "\n",
      "Dependencies:\n",
      "* `openai`\n",
      "* `requests`\n",
      "\n",
      "You should be able to install both of these via `pip`.\n",
      "\n",
      "\n"
     ]
    }
   ],
   "source": [
    "print(prompt + response.choices[0].text)"
   ]
  },
  {
   "cell_type": "code",
   "execution_count": null,
   "metadata": {},
   "outputs": [],
   "source": []
  }
 ],
 "metadata": {
  "kernelspec": {
   "display_name": "Python 3",
   "language": "python",
   "name": "python3"
  },
  "language_info": {
   "codemirror_mode": {
    "name": "ipython",
    "version": 3
   },
   "file_extension": ".py",
   "mimetype": "text/x-python",
   "name": "python",
   "nbconvert_exporter": "python",
   "pygments_lexer": "ipython3",
   "version": "3.11.0"
  }
 },
 "nbformat": 4,
 "nbformat_minor": 2
}
